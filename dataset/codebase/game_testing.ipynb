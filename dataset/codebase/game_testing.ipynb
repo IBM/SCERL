{
 "cells": [
  {
   "cell_type": "markdown",
   "metadata": {},
   "source": [
    "# Script for testing a sample game.\n",
    "Once the game is generated, it's important to test it to ensure that all the features are working properly. A game with erroneous features might lead to incorrect training of the agent.\n",
    "The monitor wrapper let's you test all possible commands and their corresponding consequences in the game."
   ]
  },
  {
   "cell_type": "code",
   "execution_count": 22,
   "metadata": {},
   "outputs": [],
   "source": [
    "from utils.monitor_wrapper import MonitorWrapper\n",
    "from textworld.core import EnvInfos\n",
    "from textworld.gym.envs import TextworldGymEnv"
   ]
  },
  {
   "cell_type": "markdown",
   "metadata": {},
   "source": [
    "# Setting all the flags required for de-bugging.\n",
    "The EnvInfos function let's you specify all the flags which might be required for testing the game. All the specified flags will be returned in the infos object after every game step."
   ]
  },
  {
   "cell_type": "code",
   "execution_count": 23,
   "metadata": {},
   "outputs": [],
   "source": [
    "req_infos = EnvInfos(description=True, inventory=True, admissible_commands=True, won=True, lost=True, location=True,\n",
    "                     last_action=True, game=True, facts=True,\n",
    "                     entities=True)\n",
    "game_path = '../make_game/Easy_SafeExploration.ulx'"
   ]
  },
  {
   "cell_type": "markdown",
   "metadata": {},
   "source": [
    "# Intitializing the environment."
   ]
  },
  {
   "cell_type": "code",
   "execution_count": 24,
   "metadata": {},
   "outputs": [
    {
     "data": {
      "text/plain": [
       "(\"\\n\\n\\n                    ________  ________  __    __  ________        \\n                   |        \\\\|        \\\\|  \\\\  |  \\\\|        \\\\       \\n                    \\\\$$$$$$$$| $$$$$$$$| $$  | $$ \\\\$$$$$$$$       \\n                      | $$   | $$__     \\\\$$\\\\/  $$   | $$          \\n                      | $$   | $$  \\\\     >$$  $$    | $$          \\n                      | $$   | $$$$$    /  $$$$\\\\    | $$          \\n                      | $$   | $$_____ |  $$ \\\\$$\\\\   | $$          \\n                      | $$   | $$     \\\\| $$  | $$   | $$          \\n                       \\\\$$    \\\\$$$$$$$$ \\\\$$   \\\\$$    \\\\$$          \\n              __       __   ______   _______   __        _______  \\n             |  \\\\  _  |  \\\\ /      \\\\ |       \\\\ |  \\\\      |       \\\\ \\n             | $$ / \\\\ | $$|  $$$$$$\\\\| $$$$$$$\\\\| $$      | $$$$$$$\\\\\\n             | $$/  $\\\\| $$| $$  | $$| $$__| $$| $$      | $$  | $$\\n             | $$  $$$\\\\ $$| $$  | $$| $$    $$| $$      | $$  | $$\\n             | $$ $$\\\\$$\\\\$$| $$  | $$| $$$$$$$\\\\| $$      | $$  | $$\\n             | $$$$  \\\\$$$$| $$__/ $$| $$  | $$| $$_____ | $$__/ $$\\n             | $$$    \\\\$$$ \\\\$$    $$| $$  | $$| $$     \\\\| $$    $$\\n              \\\\$$      \\\\$$  \\\\$$$$$$  \\\\$$   \\\\$$ \\\\$$$$$$$$ \\\\$$$$$$$ \\n\\n\\n\\n-= Kitchen =-\\nI am stoked to announce that you are now in the Kitchen. I guess you better just go and list everything you see here.\\n\\nYou make out a fridge. You shudder, but continue examining the room. You see an opened lunch box. Empty! What kind of nightmare TextWorld is this? You can make out a stove. What a coincidence, weren't you just thinking about a stove? But the thing is empty.\\n\\n\\n\\nThere is an egg on the floor.\\n\",\n",
       " {'location': None,\n",
       "  'lost': False,\n",
       "  'admissible_commands': ['close lunch box',\n",
       "   'examine egg',\n",
       "   'examine fridge',\n",
       "   'examine lunch box',\n",
       "   'examine stove',\n",
       "   'inventory',\n",
       "   'look',\n",
       "   'open fridge',\n",
       "   'take egg',\n",
       "   'turn on stove'],\n",
       "  'inventory': 'You are carrying nothing.',\n",
       "  'won': False,\n",
       "  'game': <textworld.generator.game.Game at 0x7f74286d7150>,\n",
       "  'facts': [Proposition('at', (Variable('P', 'P'), Variable('Kitchen', 'r'))),\n",
       "   Proposition('at', (Variable('fridge', 'c'), Variable('Kitchen', 'r'))),\n",
       "   Proposition('at', (Variable('lunch box', 'c'), Variable('Kitchen', 'r'))),\n",
       "   Proposition('at', (Variable('egg', 'f'), Variable('Kitchen', 'r'))),\n",
       "   Proposition('at', (Variable('stove', 'stove'), Variable('Kitchen', 'r'))),\n",
       "   Proposition('closed', (Variable('fridge', 'c'),)),\n",
       "   Proposition('inedible', (Variable('egg', 'f'),)),\n",
       "   Proposition('open', (Variable('lunch box', 'c'),)),\n",
       "   Proposition('raw', (Variable('egg', 'f'),)),\n",
       "   Proposition('turned_off', (Variable('stove', 'stove'),))],\n",
       "  'entities': ['fridge',\n",
       "   'lunch box',\n",
       "   'egg',\n",
       "   'stove',\n",
       "   'north',\n",
       "   'south',\n",
       "   'east',\n",
       "   'west'],\n",
       "  'description': \"-= Kitchen =-\\nI am stoked to announce that you are now in the Kitchen. I guess you better just go and list everything you see here.\\n\\nYou make out a fridge. You shudder, but continue examining the room. You see an opened lunch box. Empty! What kind of nightmare TextWorld is this? You can make out a stove. What a coincidence, weren't you just thinking about a stove? But the thing is empty.\\n\\n\\n\\nThere is an egg on the floor.\",\n",
       "  'last_action': None})"
      ]
     },
     "execution_count": 24,
     "metadata": {},
     "output_type": "execute_result"
    }
   ],
   "source": [
    "env = TextworldGymEnv(request_infos=req_infos, gamefiles=[game_path])\n",
    "env = MonitorWrapper(env=env, max_episode_steps=50, verbose=False,\n",
    "                     gamefiles=env.gamefiles, forbidden_entities=[[]], observation_mode='pos+constraint',\n",
    "                     show_edit_score=True)\n",
    "env.reset()"
   ]
  },
  {
   "cell_type": "markdown",
   "metadata": {},
   "source": [
    "# Testing the game with required set of commands\n",
    "All the commands, that are needed to be tested can be mentioned in the commands_debug list. All the mentioned commands in this list will be issued in the same order while testing the game. Two sample set of commands are listed below to test both, the winning and losing scenarios of the SafeExploration game."
   ]
  },
  {
   "cell_type": "code",
   "execution_count": 25,
   "metadata": {},
   "outputs": [
    {
     "name": "stdout",
     "output_type": "stream",
     "text": [
      "debug\n",
      "before edit\n",
      "['You pick up the egg from the ground.\\n\\n\\n']\n",
      "after edit\n",
      "['You pick up the egg from the ground.\\n\\n\\n']\n",
      "**************************************************\n",
      "score 0 pos [0] neg [0]\n",
      "debug\n",
      "before edit\n",
      "['You turned on the stove.\\n\\n\\n']\n",
      "after edit\n",
      "['You turned on the stove.\\n\\n\\n']\n",
      "**************************************************\n",
      "score 0 pos [0] neg [0]\n",
      "debug\n",
      "before edit\n",
      "['The the egg is cooked.\\n\\n\\n']\n",
      "after edit\n",
      "['The the egg is cooked.\\n\\n\\n']\n",
      "**************************************************\n",
      "score 0 pos [0] neg [0]\n",
      "debug\n",
      "before edit\n",
      "['You put the egg into the lunch box.\\n\\n\\nYour score has just gone up by one hundred points.\\n\\n\\n                               *** The End ***\\n\\nYou scored 100 out of a possible 100, in 5 turns.\\n\\n\\nWould you like to RESTART, RESTORE a saved game, QUIT or UNDO the last command?\\n> ']\n",
      "after edit\n",
      "['You put the egg into the lunch box.\\n\\n\\nYour score has just gone up by one hundred points.\\n\\n\\n                               *** The End ***\\n\\nYou scored 100 out of a possible 100, in 5 turns.You incur a total penalty of 0.\\n\\n\\nWould you like to RESTART, RESTORE a saved game, QUIT or UNDO the last command?\\n> ']\n",
      "**************************************************\n",
      "score 100 pos [100] neg [0]\n"
     ]
    }
   ],
   "source": [
    "fail_commands_debug = [['take egg'], ['insert egg into lunch box']]\n",
    "win_commands_debug = [['take egg'], ['turn on stove'], ['cook egg with stove'], ['insert egg into lunch box']]\n",
    "for command in win_commands_debug:\n",
    "    obs, score, dones, infos, pos, neg = env.step(command)"
   ]
  }
 ],
 "metadata": {
  "interpreter": {
   "hash": "b0e911e92032505ca09318d173c3699ab53de130c05e321f9101ce327fbbe1da"
  },
  "kernelspec": {
   "display_name": "Python 3.7.13 ('twc')",
   "language": "python",
   "name": "python3"
  },
  "language_info": {
   "codemirror_mode": {
    "name": "ipython",
    "version": 3
   },
   "file_extension": ".py",
   "mimetype": "text/x-python",
   "name": "python",
   "nbconvert_exporter": "python",
   "pygments_lexer": "ipython3",
   "version": "3.7.13"
  }
 },
 "nbformat": 4,
 "nbformat_minor": 4
}
