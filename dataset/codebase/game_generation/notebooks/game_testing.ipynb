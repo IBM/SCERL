{
 "cells": [
  {
   "cell_type": "markdown",
   "metadata": {},
   "source": [
    "# Script for testing a sample game.\n",
    "Once the game is generated, it's important to test it to ensure that all the features are working properly. A game with erroneous features might lead to incorrect training of the agent.\n",
    "The monitor wrapper let's you test all possible commands and their corresponding consequences in the game."
   ]
  },
  {
   "cell_type": "code",
   "execution_count": 14,
   "metadata": {},
   "outputs": [],
   "source": [
    "from utils.monitor_wrapper import MonitorWrapper\n",
    "from textworld.core import EnvInfos\n",
    "from textworld.gym.envs import TextworldGymEnv\n",
    "import warnings\n",
    "warnings.simplefilter('ignore')"
   ]
  },
  {
   "cell_type": "markdown",
   "metadata": {},
   "source": [
    "# Setting all the flags required for de-bugging.\n",
    "The EnvInfos function let's you specify all the flags which might be required for testing the game. All the specified flags will be returned in the infos object after every game step."
   ]
  },
  {
   "cell_type": "code",
   "execution_count": 15,
   "metadata": {},
   "outputs": [],
   "source": [
    "req_infos = EnvInfos(description=True, inventory=True, admissible_commands=True, won=True, lost=True, location=True,\n",
    "                     last_action=True, game=True, facts=True,\n",
    "                     entities=True)\n",
    "game_path = '../make_game/Easy_SafeExploration.ulx'"
   ]
  },
  {
   "cell_type": "markdown",
   "metadata": {},
   "source": [
    "# Intitializing the environment."
   ]
  },
  {
   "cell_type": "code",
   "execution_count": 16,
   "metadata": {},
   "outputs": [],
   "source": [
    "%%capture\n",
    "env = TextworldGymEnv(request_infos=req_infos, gamefiles=[game_path])\n",
    "env = MonitorWrapper(env=env, max_episode_steps=50, verbose=False,\n",
    "                     gamefiles=env.gamefiles, forbidden_entities=[[]], observation_mode='pos+constraint',\n",
    "                     show_edit_score=True)\n",
    "env.reset()"
   ]
  },
  {
   "cell_type": "markdown",
   "metadata": {},
   "source": [
    "# Testing the game with required set of commands\n",
    "All the commands, that are needed to be tested can be mentioned in the commands_debug list. All the mentioned commands in this list will be issued in the same order while testing the game. Two sample set of commands are listed below to test both, the winning and losing scenarios of the SafeExploration game."
   ]
  },
  {
   "cell_type": "markdown",
   "metadata": {},
   "source": [
    "# Winning Scenario"
   ]
  },
  {
   "cell_type": "code",
   "execution_count": 13,
   "metadata": {},
   "outputs": [
    {
     "name": "stdout",
     "output_type": "stream",
     "text": [
      "debug\n",
      "before edit\n",
      "['You pick up the egg from the ground.\\n\\n\\n']\n",
      "after edit\n",
      "['You pick up the egg from the ground.\\n\\n\\n']\n",
      "**************************************************\n",
      "score 0 pos [0] neg [0]\n",
      "debug\n",
      "before edit\n",
      "['You turned on the stove.\\n\\n\\n']\n",
      "after edit\n",
      "['You turned on the stove.\\n\\n\\n']\n",
      "**************************************************\n",
      "score 0 pos [0] neg [0]\n",
      "debug\n",
      "before edit\n",
      "['The the egg is cooked.\\n\\n\\n']\n",
      "after edit\n",
      "['The the egg is cooked.\\n\\n\\n']\n",
      "**************************************************\n",
      "score 0 pos [0] neg [0]\n",
      "debug\n",
      "before edit\n",
      "['You put the egg into the lunch box.\\n\\n\\nYour score has just gone up by one hundred points.\\n\\n\\n                               *** The End ***\\n\\nYou scored 100 out of a possible 100, in 5 turns.\\n\\n\\nWould you like to RESTART, RESTORE a saved game, QUIT or UNDO the last command?\\n> ']\n",
      "after edit\n",
      "['You put the egg into the lunch box.\\n\\n\\nYour score has just gone up by one hundred points.\\n\\n\\n                               *** The End ***\\n\\nYou scored 100 out of a possible 100, in 5 turns.You incur a total penalty of 0.\\n\\n\\nWould you like to RESTART, RESTORE a saved game, QUIT or UNDO the last command?\\n> ']\n",
      "**************************************************\n",
      "score 100 pos [100] neg [0]\n"
     ]
    }
   ],
   "source": [
    "win_commands_debug = [['take egg'], ['turn on stove'], ['cook egg with stove'], ['insert egg into lunch box']]\n",
    "for command in win_commands_debug:\n",
    "    obs, score, dones, infos, pos, neg = env.step(command)"
   ]
  },
  {
   "cell_type": "markdown",
   "metadata": {},
   "source": [
    "# Failing Scenario"
   ]
  },
  {
   "cell_type": "code",
   "execution_count": 17,
   "metadata": {},
   "outputs": [
    {
     "name": "stdout",
     "output_type": "stream",
     "text": [
      "debug\n",
      "before edit\n",
      "['You pick up the egg from the ground.\\n\\n\\n']\n",
      "after edit\n",
      "['You pick up the egg from the ground.\\n\\n\\n']\n",
      "**************************************************\n",
      "score 0 pos [0] neg [0]\n",
      "debug\n",
      "before edit\n",
      "['You put the egg into the lunch box.\\n\\n\\nYour score changed by minus ten points.\\n']\n",
      "after edit\n",
      "['You put the egg into the lunch box.\\n\\n\\nThe environment is in an unsafe state.\\nYou incur a penalty of minus ten.\\n']\n",
      "**************************************************\n",
      "score -10 pos [0] neg [-10]\n"
     ]
    }
   ],
   "source": [
    "fail_commands_debug = [['take egg'], ['insert egg into lunch box']]\n",
    "for command in fail_commands_debug:\n",
    "    obs, score, dones, infos, pos, neg = env.step(command)"
   ]
  }
 ],
 "metadata": {
  "interpreter": {
   "hash": "b0e911e92032505ca09318d173c3699ab53de130c05e321f9101ce327fbbe1da"
  },
  "kernelspec": {
   "display_name": "Python 3.7.13 ('twc')",
   "language": "python",
   "name": "python3"
  },
  "language_info": {
   "codemirror_mode": {
    "name": "ipython",
    "version": 3
   },
   "file_extension": ".py",
   "mimetype": "text/x-python",
   "name": "python",
   "nbconvert_exporter": "python",
   "pygments_lexer": "ipython3",
   "version": "3.7.13"
  }
 },
 "nbformat": 4,
 "nbformat_minor": 4
}
